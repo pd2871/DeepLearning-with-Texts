{
 "cells": [
  {
   "cell_type": "code",
   "execution_count": 30,
   "id": "d0a17d80",
   "metadata": {},
   "outputs": [],
   "source": [
    "from PIL import Image\n",
    "import pytesseract, os, docx\n",
    "from docx2pdf import convert\n",
    "from googletrans import Translator\n",
    "import warnings\n",
    "\n",
    "warnings.filterwarnings('ignore')\n",
    "pytesseract.pytesseract.tesseract_cmd = r'C:\\Program Files\\Tesseract-OCR\\tesseract.exe'\n"
   ]
  },
  {
   "cell_type": "code",
   "execution_count": null,
   "id": "a0bdec86",
   "metadata": {},
   "outputs": [],
   "source": []
  },
  {
   "cell_type": "code",
   "execution_count": 26,
   "id": "d7f901b6",
   "metadata": {},
   "outputs": [],
   "source": [
    "from deep_translator import GoogleTranslator"
   ]
  },
  {
   "cell_type": "code",
   "execution_count": 27,
   "id": "db896ddf",
   "metadata": {
    "scrolled": true
   },
   "outputs": [
    {
     "name": "stdout",
     "output_type": "stream",
     "text": [
      "IMG_3095.jpeg completed\n",
      "IMG_3097.jpeg completed\n",
      "IMG_3098.jpeg completed\n",
      "IMG_3099.jpeg completed\n",
      "IMG_3104.jpeg completed\n",
      "IMG_3105.jpeg completed\n",
      "IMG_3106.jpeg completed\n",
      "IMG_3108.jpeg completed\n",
      "IMG_3109.jpeg completed\n",
      "IMG_3110.jpeg completed\n",
      "IMG_3113.jpeg completed\n",
      "IMG_3115.jpeg completed\n",
      "IMG_3117.jpeg completed\n",
      "IMG_3118.jpeg completed\n",
      "IMG_3119.jpeg completed\n",
      "IMG_3120.jpeg completed\n",
      "IMG_3121.jpeg completed\n",
      "IMG_3122.jpeg completed\n",
      "IMG_3125.jpeg completed\n",
      "IMG_3126.jpeg completed\n",
      "IMG_3127.jpeg completed\n",
      "IMG_3128.jpeg completed\n",
      "IMG_3130.jpeg completed\n",
      "IMG_3131.jpeg completed\n",
      "IMG_3136.jpeg completed\n",
      "IMG_3137.jpeg completed\n",
      "IMG_3138.jpeg completed\n",
      "IMG_3140.jpeg completed\n",
      "IMG_3142.jpeg completed\n",
      "IMG_3143.jpeg completed\n",
      "IMG_3144.jpeg completed\n",
      "IMG_3145.jpeg completed\n",
      "IMG_3146.jpeg completed\n",
      "IMG_3151.jpeg completed\n",
      "IMG_3152.jpeg completed\n",
      "IMG_3154.jpeg completed\n",
      "IMG_3157.jpeg completed\n",
      "IMG_3158.jpeg completed\n",
      "IMG_3159.jpeg completed\n",
      "IMG_3160.jpeg completed\n",
      "IMG_3162.jpeg completed\n",
      "IMG_3163.jpeg completed\n",
      "IMG_3164.jpeg completed\n",
      "IMG_3165.jpeg completed\n",
      "IMG_3166.jpeg completed\n",
      "IMG_3170.jpeg completed\n",
      "IMG_3173.jpeg completed\n",
      "IMG_3174.jpeg completed\n",
      "IMG_3175.jpeg completed\n",
      "IMG_3176.jpeg completed\n",
      "IMG_3180.jpeg completed\n",
      "IMG_3181.jpeg completed\n",
      "IMG_3182.jpeg completed\n",
      "IMG_3183.jpeg completed\n",
      "IMG_3184.jpeg completed\n",
      "IMG_3186.jpeg completed\n",
      "IMG_3187.jpeg completed\n",
      "IMG_3189.jpeg completed\n",
      "IMG_3190.jpeg completed\n",
      "IMG_3191.jpeg completed\n",
      "IMG_3193.jpeg completed\n",
      "IMG_3194.jpeg completed\n",
      "IMG_3195.jpeg completed\n",
      "IMG_3198.jpeg completed\n",
      "IMG_3199.jpeg completed\n"
     ]
    },
    {
     "name": "stderr",
     "output_type": "stream",
     "text": [
      "100%|████████████████████████████████████████████████████████████████████████████████| 125/125 [04:27<00:00,  2.14s/it]\n"
     ]
    }
   ],
   "source": [
    "# translator = Translator()\n",
    "\n",
    "\n",
    "for image in os.listdir('images'):\n",
    "    \n",
    "    if image.endswith('.jpeg') or image.endswith('.png') or image.endswith('.jpg'):\n",
    "        pass\n",
    "    else:\n",
    "        continue\n",
    "        \n",
    "    image_nm = image.split('.')[0]\n",
    "\n",
    "    x =  pytesseract.image_to_string(Image.open(f'images/{image}'))\n",
    "\n",
    "    \n",
    "\n",
    "    ll = len(x.split('\\n\\n'))\n",
    "\n",
    "    ix = 0\n",
    "\n",
    "    for i, xx in enumerate(x.split('\\n\\n')):\n",
    "        xx = str(xx).replace('»','').replace('\\n',' ')\n",
    "        if xx.strip() == '':\n",
    "            document.add_paragraph(\"   \")\n",
    "            continue\n",
    "        if ix == 0:\n",
    "            if not xx.split()[0].isalpha():\n",
    "                continue\n",
    "            else:\n",
    "                ix = 1\n",
    "        if i == ll-1:\n",
    "            continue\n",
    "        ar = GoogleTranslator(source='en', target='ne').translate(f\"\"\"{xx}\"\"\")\n",
    "        \n",
    "#         print(ar)\n",
    "        if ix == 1:\n",
    "            ix=2\n",
    "            document = docx.Document()\n",
    "            document.add_heading(ar)\n",
    "            document.add_paragraph(\"   \")\n",
    "        else:\n",
    "            document.add_paragraph(ar)\n",
    "    document.save(f'pdfs/{image_nm}.docx')\n",
    "    print(f\"{image} completed\" )\n",
    "    \n",
    "convert(\"pdfs/\")\n",
    "\n",
    "for xf in os.listdir('pdfs'):\n",
    "    if xf.endswith('.docx'):\n",
    "        os.remove(os.path.join('pdfs', xf))"
   ]
  },
  {
   "cell_type": "code",
   "execution_count": null,
   "id": "fe8db19c",
   "metadata": {},
   "outputs": [],
   "source": []
  },
  {
   "cell_type": "code",
   "execution_count": null,
   "id": "0c96841c",
   "metadata": {},
   "outputs": [],
   "source": []
  }
 ],
 "metadata": {
  "kernelspec": {
   "display_name": "Python 3 (ipykernel)",
   "language": "python",
   "name": "python3"
  },
  "language_info": {
   "codemirror_mode": {
    "name": "ipython",
    "version": 3
   },
   "file_extension": ".py",
   "mimetype": "text/x-python",
   "name": "python",
   "nbconvert_exporter": "python",
   "pygments_lexer": "ipython3",
   "version": "3.8.16"
  }
 },
 "nbformat": 4,
 "nbformat_minor": 5
}
